{
 "metadata": {
  "language_info": {
   "codemirror_mode": {
    "name": "ipython",
    "version": 3
   },
   "file_extension": ".py",
   "mimetype": "text/x-python",
   "name": "python",
   "nbconvert_exporter": "python",
   "pygments_lexer": "ipython3",
   "version": "3.8.3"
  },
  "orig_nbformat": 2,
  "kernelspec": {
   "name": "python383jvsc74a57bd0aee8b7b246df8f9039afb4144a1f6fd8d2ca17a180786b69acc140d282b71a49",
   "display_name": "Python 3.8.3 64-bit"
  }
 },
 "nbformat": 4,
 "nbformat_minor": 2,
 "cells": [
  {
   "source": [
    "# Session 1: Basics\n",
    "\n",
    "In this Notebook, we will consider some basic concepts of Machine Learning, namely:\n",
    "* Machine Learning vs. Artificial Intelligence\n",
    "* Supervised vs. Unsupervised Methods\n",
    "* Training vs. Inference\n",
    "* Accuracy, Precision and Recall\n",
    "* Some Popular Machine Learning Algorithms\n",
    "\n",
    "You will get the chance to test a little bit of code in this Notebook. In future sessions, we will go into more depth about how to implement particular Machine Learning algorithms.\n"
   ],
   "cell_type": "markdown",
   "metadata": {}
  },
  {
   "cell_type": "code",
   "execution_count": 3,
   "metadata": {},
   "outputs": [],
   "source": [
    "import numpy as np"
   ]
  },
  {
   "source": [
    "## Machine Learning vs. Artificial Intelligence\n",
    "\n",
    "Machine Learning (ML) and Artificial Intelligence (AI) are closely related, but they aren't the same:\n",
    "* **Machine Learning**: An approach to programming, where the computer learns how to perform a task from data rather than being told what to do.\n",
    "* **Artificial Intelligence**: An aspiration of computer science, to create computers that effectively model, simulate or replicate intelligence.\n",
    "\n",
    "Today, ML and AI are often used synonymously, because most AI researchers use ML methods to try and achieve AI. But this has not always been the case. From the 1940s to the 1980s, the dominant paradigm in AI research was 'symbolic AI'. During this period, AI researchers tried to replicate intelligence by programming computers to manipulate symbols according to pre-programmed logical rules. Only the the 1990s did machine learning become sufficiently successful to take over."
   ],
   "cell_type": "markdown",
   "metadata": {}
  },
  {
   "cell_type": "code",
   "execution_count": null,
   "metadata": {},
   "outputs": [],
   "source": []
  },
  {
   "source": [
    "## Supervised vs. Unsupervised Methods\n",
    "\n",
    "This is the first big distinction in ML. There are two ways of getting the computer to learn. In supervised learning, the computer is given a set of input information, and a corresponding set of outputs. You then ask the computer to learn out to predict the outputs given the inputs. In other words, you essentially give the computer the answers and let it work out how to derive those answers from the input. "
   ],
   "cell_type": "markdown",
   "metadata": {}
  },
  {
   "source": [
    "## Training vs. Inference"
   ],
   "cell_type": "markdown",
   "metadata": {}
  },
  {
   "source": [
    "## Accuracy, Precision and Recall\n",
    "\n",
    "\n",
    "The ten films: *Star Wars*, *Saw*, *Gone With the Wind*, *The Babadook*, *Under the Shadow*, *Citizen Kane*, *Dilwale Dulhaina Le Jayenge*, *Police Story*, *Gol Maal*, *Carrie*.\n",
    "\n",
    "Question: Is this film a horror film?"
   ],
   "cell_type": "markdown",
   "metadata": {}
  },
  {
   "cell_type": "code",
   "execution_count": 26,
   "metadata": {},
   "outputs": [],
   "source": [
    "actual_answers = np.array([0, 1, 0, 1, 1, 0, 0, 0, 0, 1])\n",
    "predicted_answers = np.array([1, 0, 1, 0, 0, 0, 1, 0, 0, 1])\n",
    "n = 10"
   ]
  },
  {
   "cell_type": "code",
   "execution_count": 27,
   "metadata": {},
   "outputs": [],
   "source": [
    "correct = actual_answers == predicted_answers\n",
    "true_positive = (actual_answers == 1) & (predicted_answers == 1)\n",
    "false_positive = None # When the true answer is negative, but the predicted answer is positive\n",
    "false_negative = None # When the true answer is positive, but the predicted answer is negative"
   ]
  },
  {
   "cell_type": "code",
   "execution_count": 28,
   "metadata": {},
   "outputs": [],
   "source": [
    "accuracy = correct.sum() / n\n",
    "precision = None # TP / (TP + FP)\n",
    "recall = None # TP / (FN + FP)\n"
   ]
  },
  {
   "cell_type": "code",
   "execution_count": 31,
   "metadata": {},
   "outputs": [
    {
     "output_type": "execute_result",
     "data": {
      "text/plain": [
       "0.4"
      ]
     },
     "metadata": {},
     "execution_count": 31
    }
   ],
   "source": [
    "print(f'The model correctly predicted the genre of {correct.sum()} out of {n} films.')\n",
    "print(f'The model\\'s accuracy is therefore {accuracy}.')\n",
    "print(f'But the model\\'s precision is only {precision}')\n",
    "print(f'And its recall is only {recall}')"
   ]
  },
  {
   "source": [
    "## Some Popular Machine Learning Algorithms"
   ],
   "cell_type": "markdown",
   "metadata": {}
  },
  {
   "source": [
    "## Conclusion"
   ],
   "cell_type": "markdown",
   "metadata": {}
  },
  {
   "cell_type": "code",
   "execution_count": null,
   "metadata": {},
   "outputs": [],
   "source": []
  }
 ]
}