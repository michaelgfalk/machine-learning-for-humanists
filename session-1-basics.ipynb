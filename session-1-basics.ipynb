{
 "metadata": {
  "language_info": {
   "codemirror_mode": {
    "name": "ipython",
    "version": 3
   },
   "file_extension": ".py",
   "mimetype": "text/x-python",
   "name": "python",
   "nbconvert_exporter": "python",
   "pygments_lexer": "ipython3",
   "version": 3
  },
  "orig_nbformat": 2
 },
 "nbformat": 4,
 "nbformat_minor": 2,
 "cells": [
  {
   "source": [
    "# Session 1: Basics\n",
    "\n",
    "In this Notebook, we will consider some basic concepts of Machine Learning, namely:\n",
    "* Machine Learning vs. Artificial Intelligence\n",
    "* Supervised vs. Unsupervised Methods\n",
    "* Training vs. Inference\n",
    "* Accuracy, Precision and Recall\n",
    "* Some Popular Machine Learning Algorithms\n",
    "\n",
    "You will get the chance to test a little bit of code in this Notebook. In future sessions, we will go into more depth about how to implement particular Machine Learning algorithms.\n",
    "\n",
    "The easiest way to use these Notebooks is to open them in Google Colab, which comes pre-installed with all the necessary libraries. Just click the button below:\n",
    "\n",
    "[![Open In Colab](https://colab.research.google.com/assets/colab-badge.svg)](https://colab.research.google.com/github/michaelgfalk/machine-learning-for-humanists/blob/master/session-1-basics.ipynb)\n"
   ],
   "cell_type": "markdown",
   "metadata": {}
  },
  {
   "source": [
    "## Machine Learning vs. Artificial Intelligence"
   ],
   "cell_type": "markdown",
   "metadata": {}
  },
  {
   "source": [
    "## Supervised vs. Unsupervised Methods"
   ],
   "cell_type": "markdown",
   "metadata": {}
  },
  {
   "source": [
    "## Training vs. Inference"
   ],
   "cell_type": "markdown",
   "metadata": {}
  },
  {
   "source": [
    "## Accuracy, Precision and Recall"
   ],
   "cell_type": "markdown",
   "metadata": {}
  },
  {
   "source": [
    "## Some Popular Machine Learning Algorithms"
   ],
   "cell_type": "markdown",
   "metadata": {}
  },
  {
   "source": [
    "## Conclusion"
   ],
   "cell_type": "markdown",
   "metadata": {}
  },
  {
   "cell_type": "code",
   "execution_count": null,
   "metadata": {},
   "outputs": [],
   "source": []
  }
 ]
}