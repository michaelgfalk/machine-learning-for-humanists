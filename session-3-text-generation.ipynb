{
 "metadata": {
  "language_info": {
   "codemirror_mode": {
    "name": "ipython",
    "version": 3
   },
   "file_extension": ".py",
   "mimetype": "text/x-python",
   "name": "python",
   "nbconvert_exporter": "python",
   "pygments_lexer": "ipython3",
   "version": 3
  },
  "orig_nbformat": 4
 },
 "nbformat": 4,
 "nbformat_minor": 2,
 "cells": [
  {
   "source": [
    "# Text Generation Using Recurrent Neural Networks\n",
    "\n",
    "This week we are going to learn about Recurrent Neural Networks (RNNs). RNNs are very popular in the field of natural language processing, because they are remarkably good at modelling langauge. This is because, unlike the other models we have looked at so far, RNNs take a account of the *order* in which things appear, and word order is obviously a very important feature of language. Because of their ability to take account of the *order* of observations, RNNs are a type of 'sequence model.'\n",
    "\n",
    "I explained how these models work in the workshop. The [slides](slides/text-generation.pdf) are available in this repo.\n",
    "\n",
    "To see how RNNs work, and to learn a bit abou what they are capable of, today we will train the computer to generate poetry based on 3 million lines of poetry from Project Gutenberg.\n",
    "\n",
    "**NB:** If you are using this notebook in Google Colab, pleaes make sure to click the 'runtime' button in the top right, and choose 'GPU'."
   ],
   "cell_type": "markdown",
   "metadata": {}
  },
  {
   "source": [
    "## Import the poetry data"
   ],
   "cell_type": "markdown",
   "metadata": {}
  },
  {
   "cell_type": "code",
   "execution_count": null,
   "metadata": {},
   "outputs": [],
   "source": [
    "# Extract all the lines of poetry from the corpus\n",
    "import gzip, json\n",
    "all_lines = []\n",
    "for line in gzip.open(\"gutenberg-poetry-v001.ndjson.gz\"):\n",
    "    all_lines.append(json.loads(line.strip()))\n",
    "\n",
    "# Take a look\n",
    "import random\n",
    "random.sample(all_lines, 5)"
   ]
  },
  {
   "source": [
    "## Preprocess the Data"
   ],
   "cell_type": "markdown",
   "metadata": {}
  },
  {
   "cell_type": "code",
   "execution_count": null,
   "metadata": {},
   "outputs": [],
   "source": [
    "import tensorflow as tf\n",
    "\n",
    "dataset = tf.data.Dataset.from_tensor_slices([])"
   ]
  },
  {
   "source": [
    "## Define and train the network\n"
   ],
   "cell_type": "markdown",
   "metadata": {}
  },
  {
   "cell_type": "code",
   "execution_count": null,
   "metadata": {},
   "outputs": [],
   "source": [
    "import tensorflow as tf\n",
    "from tensorflow.keras.layers import Input, LSTM, "
   ]
  },
  {
   "source": [
    "# Generate Some Poetry"
   ],
   "cell_type": "markdown",
   "metadata": {}
  },
  {
   "cell_type": "code",
   "execution_count": null,
   "metadata": {},
   "outputs": [],
   "source": []
  }
 ]
}