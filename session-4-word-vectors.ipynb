{
 "metadata": {
  "language_info": {
   "codemirror_mode": {
    "name": "ipython",
    "version": 3
   },
   "file_extension": ".py",
   "mimetype": "text/x-python",
   "name": "python",
   "nbconvert_exporter": "python",
   "pygments_lexer": "ipython3",
   "version": "3.8.3"
  },
  "orig_nbformat": 4,
  "kernelspec": {
   "name": "python3",
   "display_name": "Python 3.8.3 64-bit"
  },
  "interpreter": {
   "hash": "aee8b7b246df8f9039afb4144a1f6fd8d2ca17a180786b69acc140d282b71a49"
  }
 },
 "nbformat": 4,
 "nbformat_minor": 2,
 "cells": [
  {
   "source": [
    "# Session 4: Word Vectors\n",
    "\n",
    "Word vectors (also known as 'word embeddings') are one of the most popular kinds of AI models. They are extremely useful in many domains. In essence, a word vector is a set of numbers that attempt to capture the meaning of a word. In typical implementations, each word is represented by a set of 200-300 numbers. In linear algebra, a one-dimensional array of numbers is known as a 'vector', hence these sets of numbers representing words' meanings are known as 'word vectors'.\n",
    "\n",
    "Using neural networks, we can expose the computer to a large amount of text, and allow it to learn an appropriate set of numbers for each word it encounters. In this notebook, we will learn about the most famous of all word vector algorithms, `word2vec`, which was first described by Tomas Mikolov and his team in 2013:\n",
    "\n",
    "* Tomas Mikolov, Ilya Sutskever, and others, ‘Distributed Representations of Words and Phrases and Their Compositionality’, in Advances in Neural Information Processing Systems 26, ed. by C. J. C. Burges and others (Curran Associates, Inc., 2013), pp. 3111–19 <http://papers.nips.cc/paper/5021-distributed-representations-of-words-and-phrases-and-their-compositionality.pdf>\n",
    "* Tomas Mikolov, Kai Chen, and others, ‘Efficient Estimation of Word Representations in Vector Space’, ArXiv:1301.3781 Cs, 2013 <http://arxiv.org/abs/1301.3781>.\n",
    "\n",
    "In fact, `word2vec` is not a single algorithm, but rather a family of similar algorithms. In this session we will consider just the most famous `word2vec` algorithm, namely the `skip-gram model` trained using `negative sampling`."
   ],
   "cell_type": "markdown",
   "metadata": {}
  },
  {
   "source": [
    "## Applications of Word Vectors\n",
    "\n",
    "Word vectors allow the computer to 'understand' language far more effectively. Rather than seeing each word as simply an arbitrarily different object, a computer using word vectors can analyse each word as a point in 200- or 300-dimenstional space. Words that are similar in meaning will have similar word vectors. And as we will see, the spaces between the word vectors are also significant: the words are arranged in patterns that represent their relationships to one another.\n",
    "\n",
    "Accordingly, most AI systems that process language now include a word vector layer as part of their architecure. When the system encounters some text (e.g. when you speak to Siri or Alexa), your words are converted into word vectors, *and then* the computer examines what the text says and determines how it should respond.\n",
    "\n",
    "In the Humanities, word vectors have become a popular modelling tool, because they allow researchers to perform sophisticated analysis on large corpora of text. Some examples include:\n",
    "\n",
    "* [The Women Writers Vector Toolkit](https://wwp.northeastern.edu/lab/wwvt/index.html)\n",
    "* William L. Hamilton, Jure Leskovec, and Dan Jurafsky, ‘Diachronic Word Embeddings Reveal Statistical Laws of Semantic Change’, ArXiv:1605.09096 [Cs], 2018 <http://arxiv.org/abs/1605.09096>.\n",
    "* Ryan Heuser, 'Semantic Networks' <https://ryanheuser.org/word-vectors-4/>"
   ],
   "cell_type": "markdown",
   "metadata": {}
  },
  {
   "source": [
    "## Training a `word2vec` model in Gensim\n",
    "\n",
    "It is very easy to train a `word2vec` model in Gensim, which includes Mikolov's original `word2vec` code in its codebase."
   ],
   "cell_type": "markdown",
   "metadata": {}
  },
  {
   "cell_type": "code",
   "execution_count": null,
   "metadata": {},
   "outputs": [],
   "source": [
    "from gensim.models import Word2Vec # The word2vec model class\n",
    "import gensim.downloader as api # Allows us to download some free training data\n",
    "corpus = api.load('text8')"
   ]
  },
  {
   "source": [
    "### Step 1: Set hyperparameters and instantiate model"
   ],
   "cell_type": "markdown",
   "metadata": {}
  },
  {
   "cell_type": "code",
   "execution_count": null,
   "metadata": {},
   "outputs": [],
   "source": [
    "vector_size = 100 # Dimensionality of the word vectors\n",
    "window = 5 # How many words either side? (5 = 5 context words either side, i.e. 10 context words in total)\n",
    "use_skip_gram = 1 # If you set this to 0, then it will create a 'continuous bag of words' model instead\n",
    "use_softmax = 0 # If you set this to 1, then hierarchical softmax will be used instead of negative sampling\n",
    "negative_samples = 5 # How many incorrect answers to generate per correct answer when negative sampling\n",
    "\n",
    "model = Word2Vec(\n",
    "    size=vector_size,\n",
    "    window=window,\n",
    "    sg=use_skip_gram,\n",
    "    hs=use_softmax,\n",
    "    negative=negative_samples\n",
    ")"
   ]
  },
  {
   "source": [
    "### Step 2: Fit model to corpus"
   ],
   "cell_type": "markdown",
   "metadata": {}
  },
  {
   "cell_type": "code",
   "execution_count": null,
   "metadata": {},
   "outputs": [],
   "source": [
    "# Examine the corpus to see what words are there\n",
    "model.build_vocab(corpus)"
   ]
  },
  {
   "cell_type": "code",
   "execution_count": null,
   "metadata": {},
   "outputs": [],
   "source": [
    "# Train the model on the corpus\n",
    "model.train(sentences=corpus, epochs=5, total_examples=model.corpus_count)"
   ]
  },
  {
   "source": [
    "### Step 3: Extract word vectors from model\n",
    "\n",
    "The fully trained model includes all of the weights used to predict the context words for each input word. If you are not planning on training the model further, these weights can be discarded, and you can just keep the weights for the word vectors."
   ],
   "cell_type": "markdown",
   "metadata": {}
  },
  {
   "cell_type": "code",
   "execution_count": null,
   "metadata": {},
   "outputs": [],
   "source": [
    "word_vectors = model.wv\n",
    "del model # Delete the whole model to free up the computer's RAM"
   ]
  },
  {
   "source": [
    "### Step 4: Have a play with the model\n",
    "\n",
    "There are several ways you can use word vectors. One of the most famous is to use them to compute analogies. The formula is:\n",
    "\n",
    "<center><em>x</em> is to <em>small</em> as <em>biggest</em> is to <em>big</em></center>\n",
    "\n",
    "$$x - vector('small') = vector('biggest') - vector('big')$$\n",
    "\n",
    "$$\\therefore x = vector('small') + vector('biggest') - vector('big')$$"
   ],
   "cell_type": "markdown",
   "metadata": {}
  },
  {
   "cell_type": "code",
   "execution_count": null,
   "metadata": {},
   "outputs": [],
   "source": [
    "# See the word vector for a particular word\n",
    "vector = word_vectors['banana']\n",
    "print(vector)"
   ]
  },
  {
   "cell_type": "code",
   "execution_count": null,
   "metadata": {},
   "outputs": [],
   "source": [
    "# See which words are closest to a given word in the vector space\n",
    "similar_words = word_vectors.most_similar('toothbrush', topn=10)\n",
    "print('\\n'.join([str(tup) for tup in similar_words]))"
   ]
  },
  {
   "cell_type": "code",
   "execution_count": null,
   "metadata": {},
   "outputs": [],
   "source": [
    "# Compute analogous words\n",
    "# E.g. x is to queen as man is to king => x = v('queen') + v('man') - v('king')\n",
    "analogous_words = word_vectors.most_similar(negative=['king'], positive=['queen','man'])\n",
    "print('\\n'.join([str(tup) for tup in analogous_words]))"
   ]
  },
  {
   "source": [
    "## Using pre-trained models in Gensim\n",
    "\n",
    "In many applications, you will simply want access to pre-trained word vectors (e.g. for plugging in to another model you are training). If you don't need the vectors to be tailored closely to your particular corpus, then you might like to use some pretrained models.\n",
    "\n",
    "`word2vec` is not the only word embedding family of algorithms. Another, arguably even more powerful algorithm is the `FastText` algorithm, which Mikolov developed after moving to Facebook:\n",
    "\n",
    "* Piotr Bojanowski and others, ‘Enriching Word Vectors with Subword Information’, ArXiv:1607.04606, 2017 <http://arxiv.org/abs/1607.04606>.\n",
    "\n",
    "Instead of computing word vectors for each word, FastText splits each word into its constituent chunks. For example, 'cat' would be split into 'c', 'a', 't', 'ca', 'at' and 'cat', and 'burp' would be split into 'b', 'u', 'r', 'p', 'bu', 'ur', 'rp', 'bur', 'urp' and 'burp'. Then a vector is computer for each chunk that appears in the corpus. Each word is represented as the mean of all the chunks that make it up. FastText is able to learn very good word vectors because it can extract meaning from subword units, e.g. it can see that 'television', 'telegraph' and 'telepathy' all have 'tele' at the front, and can see that 'formality', 'criminality' and 'paucity' share subword units such as 'al' and 'ity'.\n",
    "\n",
    "You can access many pretrained models using the Gensim downloader. Using the cells below, you can try out some of the different models available through Gensim. Along with `word2vec` and `FastText`, Gensim also supports `Glove` and `Doc2Vec` models.\n",
    "\n",
    "**NB:** These trained models are very large, and will take a while to download. You may wish to download this notebook and execute the cells below on your own machine, in case Google kicks you out of the Colab environment."
   ],
   "cell_type": "markdown",
   "metadata": {}
  },
  {
   "cell_type": "code",
   "execution_count": null,
   "metadata": {},
   "outputs": [],
   "source": [
    "# See what models are on offer\n",
    "print(list(api.info()['models'].keys()))"
   ]
  },
  {
   "cell_type": "code",
   "execution_count": null,
   "metadata": {},
   "outputs": [],
   "source": [
    "# 300-dimensional word vectors trained on a huge dataset from Google News\n",
    "google_news_w2v = api.load('word2vec-google-news-300')\n",
    "\n",
    "# x is to Kenya as Canberra is to Australia\n",
    "google_news_w2v.similar_words(positive=['australia'],negative=['kenya','canberra'], topn=10)"
   ]
  },
  {
   "cell_type": "code",
   "execution_count": null,
   "metadata": {},
   "outputs": [],
   "source": [
    "# Facebook's own FastText vectors, trained on Wikipedia\n",
    "wikipedia_fasttext = api.load('fasttext-wiki-news-subwords-300')\n",
    "\n",
    "# x is to Wharton as London is to Dickens\n",
    "wikipedia_fasttext.similar_words(postive=['dickens'],negative=['wharton','london'], topn=10)"
   ]
  }
 ]
}